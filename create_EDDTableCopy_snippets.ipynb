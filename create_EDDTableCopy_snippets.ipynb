{
  "nbformat": 4,
  "nbformat_minor": 0,
  "metadata": {
    "colab": {
      "provenance": [],
      "authorship_tag": "ABX9TyPX0F3yzAnNIqxAGQXx9HRy",
      "include_colab_link": true
    },
    "kernelspec": {
      "name": "python3",
      "display_name": "Python 3"
    },
    "language_info": {
      "name": "python"
    }
  },
  "cells": [
    {
      "cell_type": "markdown",
      "metadata": {
        "id": "view-in-github",
        "colab_type": "text"
      },
      "source": [
        "<a href=\"https://colab.research.google.com/github/MathewBiddle/erddap_copy/blob/main/create_EDDTableCopy_snippets.ipynb\" target=\"_parent\"><img src=\"https://colab.research.google.com/assets/colab-badge.svg\" alt=\"Open In Colab\"/></a>"
      ]
    },
    {
      "cell_type": "markdown",
      "source": [
        "# Create xml snippets for existing ERDDAP datasets to copy to local ERDDAP.\n",
        "\n",
        "This process copies the data from one ERDDAP to a local ERDDAP and serves that data via the local ERDDAP.\n",
        "\n",
        "It heavily leverages ERDDAP's built in capabilities with [EDDTableCopy](https://erddap.github.io/docs/server-admin/datasets#eddtablecopy) and [EDDTableFromErddap](https://erddap.github.io/docs/server-admin/datasets#eddfromerddap)."
      ],
      "metadata": {
        "id": "pABXJ4P_ba3r"
      }
    },
    {
      "cell_type": "code",
      "source": [
        "!pip install erddapy"
      ],
      "metadata": {
        "colab": {
          "base_uri": "https://localhost:8080/"
        },
        "id": "6h6aITWeHtMN",
        "outputId": "7b1dade2-fba0-4639-a0de-6df5d1c518c1"
      },
      "execution_count": null,
      "outputs": [
        {
          "output_type": "stream",
          "name": "stdout",
          "text": [
            "Requirement already satisfied: erddapy in /usr/local/lib/python3.11/dist-packages (2.2.4)\n",
            "Requirement already satisfied: httpx>=0.25.0 in /usr/local/lib/python3.11/dist-packages (from erddapy) (0.28.1)\n",
            "Requirement already satisfied: pandas<3,>=0.25.2 in /usr/local/lib/python3.11/dist-packages (from erddapy) (2.2.2)\n",
            "Requirement already satisfied: pytz in /usr/local/lib/python3.11/dist-packages (from erddapy) (2025.2)\n",
            "Requirement already satisfied: anyio in /usr/local/lib/python3.11/dist-packages (from httpx>=0.25.0->erddapy) (4.9.0)\n",
            "Requirement already satisfied: certifi in /usr/local/lib/python3.11/dist-packages (from httpx>=0.25.0->erddapy) (2025.4.26)\n",
            "Requirement already satisfied: httpcore==1.* in /usr/local/lib/python3.11/dist-packages (from httpx>=0.25.0->erddapy) (1.0.9)\n",
            "Requirement already satisfied: idna in /usr/local/lib/python3.11/dist-packages (from httpx>=0.25.0->erddapy) (3.10)\n",
            "Requirement already satisfied: h11>=0.16 in /usr/local/lib/python3.11/dist-packages (from httpcore==1.*->httpx>=0.25.0->erddapy) (0.16.0)\n",
            "Requirement already satisfied: numpy>=1.23.2 in /usr/local/lib/python3.11/dist-packages (from pandas<3,>=0.25.2->erddapy) (2.0.2)\n",
            "Requirement already satisfied: python-dateutil>=2.8.2 in /usr/local/lib/python3.11/dist-packages (from pandas<3,>=0.25.2->erddapy) (2.9.0.post0)\n",
            "Requirement already satisfied: tzdata>=2022.7 in /usr/local/lib/python3.11/dist-packages (from pandas<3,>=0.25.2->erddapy) (2025.2)\n",
            "Requirement already satisfied: six>=1.5 in /usr/local/lib/python3.11/dist-packages (from python-dateutil>=2.8.2->pandas<3,>=0.25.2->erddapy) (1.17.0)\n",
            "Requirement already satisfied: sniffio>=1.1 in /usr/local/lib/python3.11/dist-packages (from anyio->httpx>=0.25.0->erddapy) (1.3.1)\n",
            "Requirement already satisfied: typing_extensions>=4.5 in /usr/local/lib/python3.11/dist-packages (from anyio->httpx>=0.25.0->erddapy) (4.13.2)\n"
          ]
        }
      ]
    },
    {
      "cell_type": "code",
      "source": [
        "from erddapy import ERDDAP\n",
        "import pandas as pd"
      ],
      "metadata": {
        "id": "mg8jzb6bHwRv"
      },
      "execution_count": null,
      "outputs": []
    },
    {
      "cell_type": "markdown",
      "source": [
        "First, we'd like to search for the CeNCOOS ERDDAP. We want to narrow our focus a little bit to ensure we know what data we are working with. For this we will only return datasets that align to ERDDAP's `tabledap` response and have a `cdm_data_type` of `TimeSeries`. We bring back the information as a dataframe to use later."
      ],
      "metadata": {
        "id": "DQCm9ElPS1xm"
      }
    },
    {
      "cell_type": "code",
      "execution_count": null,
      "metadata": {
        "colab": {
          "base_uri": "https://localhost:8080/",
          "height": 538
        },
        "id": "VamX47IhHmcH",
        "outputId": "53bfc37c-e58f-4e53-87a2-6e0e2810b023"
      },
      "outputs": [
        {
          "output_type": "execute_result",
          "data": {
            "text/plain": [
              "     griddap  Subset                                           tabledap  \\\n",
              "289      NaN     NaN  http://erddap.cencoos.org/erddap/tabledap/jws-...   \n",
              "67       NaN     NaN  http://erddap.cencoos.org/erddap/tabledap/edu_...   \n",
              "8        NaN     NaN  http://erddap.cencoos.org/erddap/tabledap/edu_...   \n",
              "17       NaN     NaN  http://erddap.cencoos.org/erddap/tabledap/edu_...   \n",
              "461      NaN     NaN  http://erddap.cencoos.org/erddap/tabledap/gov_...   \n",
              "\n",
              "                                          Make A Graph  wms  files  \\\n",
              "289  http://erddap.cencoos.org/erddap/tabledap/jws-...  NaN    NaN   \n",
              "67   http://erddap.cencoos.org/erddap/tabledap/edu_...  NaN    NaN   \n",
              "8    http://erddap.cencoos.org/erddap/tabledap/edu_...  NaN    NaN   \n",
              "17   http://erddap.cencoos.org/erddap/tabledap/edu_...  NaN    NaN   \n",
              "461  http://erddap.cencoos.org/erddap/tabledap/gov_...  NaN    NaN   \n",
              "\n",
              "                                            Title  \\\n",
              "289                               JWS Patton Cove   \n",
              "67   234 - Santa Barbara Island North, CA (46262)   \n",
              "8        073 - Scripps Pier, La Jolla, CA (LJPC1)   \n",
              "17           101 - Torrey Pines Inner, CA (46273)   \n",
              "461                                    Sacramento   \n",
              "\n",
              "                                               Summary  \\\n",
              "289  Timeseries data from 'JWS Patton Cove' (jws-pa...   \n",
              "67   Timeseries data from '234 - Santa Barbara Isla...   \n",
              "8    Timeseries data from '073 - Scripps Pier, La J...   \n",
              "17   Timeseries data from '101 - Torrey Pines Inner...   \n",
              "461  Timeseries data from 'Sacramento' (gov_noaa_wa...   \n",
              "\n",
              "                                                  FGDC  \\\n",
              "289  http://erddap.cencoos.org/erddap/metadata/fgdc...   \n",
              "67   http://erddap.cencoos.org/erddap/metadata/fgdc...   \n",
              "8    http://erddap.cencoos.org/erddap/metadata/fgdc...   \n",
              "17   http://erddap.cencoos.org/erddap/metadata/fgdc...   \n",
              "461  http://erddap.cencoos.org/erddap/metadata/fgdc...   \n",
              "\n",
              "                                             ISO 19115  \\\n",
              "289  http://erddap.cencoos.org/erddap/metadata/iso1...   \n",
              "67   http://erddap.cencoos.org/erddap/metadata/iso1...   \n",
              "8    http://erddap.cencoos.org/erddap/metadata/iso1...   \n",
              "17   http://erddap.cencoos.org/erddap/metadata/iso1...   \n",
              "461  http://erddap.cencoos.org/erddap/metadata/iso1...   \n",
              "\n",
              "                                                  Info  \\\n",
              "289  http://erddap.cencoos.org/erddap/info/jws-patt...   \n",
              "67   http://erddap.cencoos.org/erddap/info/edu_ucsd...   \n",
              "8    http://erddap.cencoos.org/erddap/info/edu_ucsd...   \n",
              "17   http://erddap.cencoos.org/erddap/info/edu_ucsd...   \n",
              "461  http://erddap.cencoos.org/erddap/info/gov_noaa...   \n",
              "\n",
              "                                      Background Info  \\\n",
              "289  https://sensors.ioos.us/#metadata/135153/station   \n",
              "67   https://sensors.ioos.us/#metadata/103480/station   \n",
              "8    https://sensors.ioos.us/#metadata/103411/station   \n",
              "17   https://sensors.ioos.us/#metadata/103420/station   \n",
              "461  https://sensors.ioos.us/#metadata/130065/station   \n",
              "\n",
              "                                                   RSS  \\\n",
              "289  http://erddap.cencoos.org/erddap/rss/jws-patto...   \n",
              "67   http://erddap.cencoos.org/erddap/rss/edu_ucsd_...   \n",
              "8    http://erddap.cencoos.org/erddap/rss/edu_ucsd_...   \n",
              "17   http://erddap.cencoos.org/erddap/rss/edu_ucsd_...   \n",
              "461  http://erddap.cencoos.org/erddap/rss/gov_noaa_...   \n",
              "\n",
              "                                                 Email  \\\n",
              "289  http://erddap.cencoos.org/erddap/subscriptions...   \n",
              "67   http://erddap.cencoos.org/erddap/subscriptions...   \n",
              "8    http://erddap.cencoos.org/erddap/subscriptions...   \n",
              "17   http://erddap.cencoos.org/erddap/subscriptions...   \n",
              "461  http://erddap.cencoos.org/erddap/subscriptions...   \n",
              "\n",
              "                                           Institution            Dataset ID  \n",
              "289             California State University Long Beach       jws-patton-cove  \n",
              "67             Coastal Data Information Program (CDIP)     edu_ucsd_cdip_234  \n",
              "8              Coastal Data Information Program (CDIP)     edu_ucsd_cdip_073  \n",
              "17             Coastal Data Information Program (CDIP)     edu_ucsd_cdip_101  \n",
              "461  NOAA Water Resources Regions, National Weather...  gov_noaa_water_atic1  "
            ],
            "text/html": [
              "\n",
              "  <div id=\"df-3ac9290c-e00c-4151-9484-ff197b9d78a1\" class=\"colab-df-container\">\n",
              "    <div>\n",
              "<style scoped>\n",
              "    .dataframe tbody tr th:only-of-type {\n",
              "        vertical-align: middle;\n",
              "    }\n",
              "\n",
              "    .dataframe tbody tr th {\n",
              "        vertical-align: top;\n",
              "    }\n",
              "\n",
              "    .dataframe thead th {\n",
              "        text-align: right;\n",
              "    }\n",
              "</style>\n",
              "<table border=\"1\" class=\"dataframe\">\n",
              "  <thead>\n",
              "    <tr style=\"text-align: right;\">\n",
              "      <th></th>\n",
              "      <th>griddap</th>\n",
              "      <th>Subset</th>\n",
              "      <th>tabledap</th>\n",
              "      <th>Make A Graph</th>\n",
              "      <th>wms</th>\n",
              "      <th>files</th>\n",
              "      <th>Title</th>\n",
              "      <th>Summary</th>\n",
              "      <th>FGDC</th>\n",
              "      <th>ISO 19115</th>\n",
              "      <th>Info</th>\n",
              "      <th>Background Info</th>\n",
              "      <th>RSS</th>\n",
              "      <th>Email</th>\n",
              "      <th>Institution</th>\n",
              "      <th>Dataset ID</th>\n",
              "    </tr>\n",
              "  </thead>\n",
              "  <tbody>\n",
              "    <tr>\n",
              "      <th>289</th>\n",
              "      <td>NaN</td>\n",
              "      <td>NaN</td>\n",
              "      <td>http://erddap.cencoos.org/erddap/tabledap/jws-...</td>\n",
              "      <td>http://erddap.cencoos.org/erddap/tabledap/jws-...</td>\n",
              "      <td>NaN</td>\n",
              "      <td>NaN</td>\n",
              "      <td>JWS Patton Cove</td>\n",
              "      <td>Timeseries data from 'JWS Patton Cove' (jws-pa...</td>\n",
              "      <td>http://erddap.cencoos.org/erddap/metadata/fgdc...</td>\n",
              "      <td>http://erddap.cencoos.org/erddap/metadata/iso1...</td>\n",
              "      <td>http://erddap.cencoos.org/erddap/info/jws-patt...</td>\n",
              "      <td>https://sensors.ioos.us/#metadata/135153/station</td>\n",
              "      <td>http://erddap.cencoos.org/erddap/rss/jws-patto...</td>\n",
              "      <td>http://erddap.cencoos.org/erddap/subscriptions...</td>\n",
              "      <td>California State University Long Beach</td>\n",
              "      <td>jws-patton-cove</td>\n",
              "    </tr>\n",
              "    <tr>\n",
              "      <th>67</th>\n",
              "      <td>NaN</td>\n",
              "      <td>NaN</td>\n",
              "      <td>http://erddap.cencoos.org/erddap/tabledap/edu_...</td>\n",
              "      <td>http://erddap.cencoos.org/erddap/tabledap/edu_...</td>\n",
              "      <td>NaN</td>\n",
              "      <td>NaN</td>\n",
              "      <td>234 - Santa Barbara Island North, CA (46262)</td>\n",
              "      <td>Timeseries data from '234 - Santa Barbara Isla...</td>\n",
              "      <td>http://erddap.cencoos.org/erddap/metadata/fgdc...</td>\n",
              "      <td>http://erddap.cencoos.org/erddap/metadata/iso1...</td>\n",
              "      <td>http://erddap.cencoos.org/erddap/info/edu_ucsd...</td>\n",
              "      <td>https://sensors.ioos.us/#metadata/103480/station</td>\n",
              "      <td>http://erddap.cencoos.org/erddap/rss/edu_ucsd_...</td>\n",
              "      <td>http://erddap.cencoos.org/erddap/subscriptions...</td>\n",
              "      <td>Coastal Data Information Program (CDIP)</td>\n",
              "      <td>edu_ucsd_cdip_234</td>\n",
              "    </tr>\n",
              "    <tr>\n",
              "      <th>8</th>\n",
              "      <td>NaN</td>\n",
              "      <td>NaN</td>\n",
              "      <td>http://erddap.cencoos.org/erddap/tabledap/edu_...</td>\n",
              "      <td>http://erddap.cencoos.org/erddap/tabledap/edu_...</td>\n",
              "      <td>NaN</td>\n",
              "      <td>NaN</td>\n",
              "      <td>073 - Scripps Pier, La Jolla, CA (LJPC1)</td>\n",
              "      <td>Timeseries data from '073 - Scripps Pier, La J...</td>\n",
              "      <td>http://erddap.cencoos.org/erddap/metadata/fgdc...</td>\n",
              "      <td>http://erddap.cencoos.org/erddap/metadata/iso1...</td>\n",
              "      <td>http://erddap.cencoos.org/erddap/info/edu_ucsd...</td>\n",
              "      <td>https://sensors.ioos.us/#metadata/103411/station</td>\n",
              "      <td>http://erddap.cencoos.org/erddap/rss/edu_ucsd_...</td>\n",
              "      <td>http://erddap.cencoos.org/erddap/subscriptions...</td>\n",
              "      <td>Coastal Data Information Program (CDIP)</td>\n",
              "      <td>edu_ucsd_cdip_073</td>\n",
              "    </tr>\n",
              "    <tr>\n",
              "      <th>17</th>\n",
              "      <td>NaN</td>\n",
              "      <td>NaN</td>\n",
              "      <td>http://erddap.cencoos.org/erddap/tabledap/edu_...</td>\n",
              "      <td>http://erddap.cencoos.org/erddap/tabledap/edu_...</td>\n",
              "      <td>NaN</td>\n",
              "      <td>NaN</td>\n",
              "      <td>101 - Torrey Pines Inner, CA (46273)</td>\n",
              "      <td>Timeseries data from '101 - Torrey Pines Inner...</td>\n",
              "      <td>http://erddap.cencoos.org/erddap/metadata/fgdc...</td>\n",
              "      <td>http://erddap.cencoos.org/erddap/metadata/iso1...</td>\n",
              "      <td>http://erddap.cencoos.org/erddap/info/edu_ucsd...</td>\n",
              "      <td>https://sensors.ioos.us/#metadata/103420/station</td>\n",
              "      <td>http://erddap.cencoos.org/erddap/rss/edu_ucsd_...</td>\n",
              "      <td>http://erddap.cencoos.org/erddap/subscriptions...</td>\n",
              "      <td>Coastal Data Information Program (CDIP)</td>\n",
              "      <td>edu_ucsd_cdip_101</td>\n",
              "    </tr>\n",
              "    <tr>\n",
              "      <th>461</th>\n",
              "      <td>NaN</td>\n",
              "      <td>NaN</td>\n",
              "      <td>http://erddap.cencoos.org/erddap/tabledap/gov_...</td>\n",
              "      <td>http://erddap.cencoos.org/erddap/tabledap/gov_...</td>\n",
              "      <td>NaN</td>\n",
              "      <td>NaN</td>\n",
              "      <td>Sacramento</td>\n",
              "      <td>Timeseries data from 'Sacramento' (gov_noaa_wa...</td>\n",
              "      <td>http://erddap.cencoos.org/erddap/metadata/fgdc...</td>\n",
              "      <td>http://erddap.cencoos.org/erddap/metadata/iso1...</td>\n",
              "      <td>http://erddap.cencoos.org/erddap/info/gov_noaa...</td>\n",
              "      <td>https://sensors.ioos.us/#metadata/130065/station</td>\n",
              "      <td>http://erddap.cencoos.org/erddap/rss/gov_noaa_...</td>\n",
              "      <td>http://erddap.cencoos.org/erddap/subscriptions...</td>\n",
              "      <td>NOAA Water Resources Regions, National Weather...</td>\n",
              "      <td>gov_noaa_water_atic1</td>\n",
              "    </tr>\n",
              "  </tbody>\n",
              "</table>\n",
              "</div>\n",
              "    <div class=\"colab-df-buttons\">\n",
              "\n",
              "  <div class=\"colab-df-container\">\n",
              "    <button class=\"colab-df-convert\" onclick=\"convertToInteractive('df-3ac9290c-e00c-4151-9484-ff197b9d78a1')\"\n",
              "            title=\"Convert this dataframe to an interactive table.\"\n",
              "            style=\"display:none;\">\n",
              "\n",
              "  <svg xmlns=\"http://www.w3.org/2000/svg\" height=\"24px\" viewBox=\"0 -960 960 960\">\n",
              "    <path d=\"M120-120v-720h720v720H120Zm60-500h600v-160H180v160Zm220 220h160v-160H400v160Zm0 220h160v-160H400v160ZM180-400h160v-160H180v160Zm440 0h160v-160H620v160ZM180-180h160v-160H180v160Zm440 0h160v-160H620v160Z\"/>\n",
              "  </svg>\n",
              "    </button>\n",
              "\n",
              "  <style>\n",
              "    .colab-df-container {\n",
              "      display:flex;\n",
              "      gap: 12px;\n",
              "    }\n",
              "\n",
              "    .colab-df-convert {\n",
              "      background-color: #E8F0FE;\n",
              "      border: none;\n",
              "      border-radius: 50%;\n",
              "      cursor: pointer;\n",
              "      display: none;\n",
              "      fill: #1967D2;\n",
              "      height: 32px;\n",
              "      padding: 0 0 0 0;\n",
              "      width: 32px;\n",
              "    }\n",
              "\n",
              "    .colab-df-convert:hover {\n",
              "      background-color: #E2EBFA;\n",
              "      box-shadow: 0px 1px 2px rgba(60, 64, 67, 0.3), 0px 1px 3px 1px rgba(60, 64, 67, 0.15);\n",
              "      fill: #174EA6;\n",
              "    }\n",
              "\n",
              "    .colab-df-buttons div {\n",
              "      margin-bottom: 4px;\n",
              "    }\n",
              "\n",
              "    [theme=dark] .colab-df-convert {\n",
              "      background-color: #3B4455;\n",
              "      fill: #D2E3FC;\n",
              "    }\n",
              "\n",
              "    [theme=dark] .colab-df-convert:hover {\n",
              "      background-color: #434B5C;\n",
              "      box-shadow: 0px 1px 3px 1px rgba(0, 0, 0, 0.15);\n",
              "      filter: drop-shadow(0px 1px 2px rgba(0, 0, 0, 0.3));\n",
              "      fill: #FFFFFF;\n",
              "    }\n",
              "  </style>\n",
              "\n",
              "    <script>\n",
              "      const buttonEl =\n",
              "        document.querySelector('#df-3ac9290c-e00c-4151-9484-ff197b9d78a1 button.colab-df-convert');\n",
              "      buttonEl.style.display =\n",
              "        google.colab.kernel.accessAllowed ? 'block' : 'none';\n",
              "\n",
              "      async function convertToInteractive(key) {\n",
              "        const element = document.querySelector('#df-3ac9290c-e00c-4151-9484-ff197b9d78a1');\n",
              "        const dataTable =\n",
              "          await google.colab.kernel.invokeFunction('convertToInteractive',\n",
              "                                                    [key], {});\n",
              "        if (!dataTable) return;\n",
              "\n",
              "        const docLinkHtml = 'Like what you see? Visit the ' +\n",
              "          '<a target=\"_blank\" href=https://colab.research.google.com/notebooks/data_table.ipynb>data table notebook</a>'\n",
              "          + ' to learn more about interactive tables.';\n",
              "        element.innerHTML = '';\n",
              "        dataTable['output_type'] = 'display_data';\n",
              "        await google.colab.output.renderOutput(dataTable, element);\n",
              "        const docLink = document.createElement('div');\n",
              "        docLink.innerHTML = docLinkHtml;\n",
              "        element.appendChild(docLink);\n",
              "      }\n",
              "    </script>\n",
              "  </div>\n",
              "\n",
              "\n",
              "    <div id=\"df-fa38d29f-b6e4-44b8-a583-a3745e71966a\">\n",
              "      <button class=\"colab-df-quickchart\" onclick=\"quickchart('df-fa38d29f-b6e4-44b8-a583-a3745e71966a')\"\n",
              "                title=\"Suggest charts\"\n",
              "                style=\"display:none;\">\n",
              "\n",
              "<svg xmlns=\"http://www.w3.org/2000/svg\" height=\"24px\"viewBox=\"0 0 24 24\"\n",
              "     width=\"24px\">\n",
              "    <g>\n",
              "        <path d=\"M19 3H5c-1.1 0-2 .9-2 2v14c0 1.1.9 2 2 2h14c1.1 0 2-.9 2-2V5c0-1.1-.9-2-2-2zM9 17H7v-7h2v7zm4 0h-2V7h2v10zm4 0h-2v-4h2v4z\"/>\n",
              "    </g>\n",
              "</svg>\n",
              "      </button>\n",
              "\n",
              "<style>\n",
              "  .colab-df-quickchart {\n",
              "      --bg-color: #E8F0FE;\n",
              "      --fill-color: #1967D2;\n",
              "      --hover-bg-color: #E2EBFA;\n",
              "      --hover-fill-color: #174EA6;\n",
              "      --disabled-fill-color: #AAA;\n",
              "      --disabled-bg-color: #DDD;\n",
              "  }\n",
              "\n",
              "  [theme=dark] .colab-df-quickchart {\n",
              "      --bg-color: #3B4455;\n",
              "      --fill-color: #D2E3FC;\n",
              "      --hover-bg-color: #434B5C;\n",
              "      --hover-fill-color: #FFFFFF;\n",
              "      --disabled-bg-color: #3B4455;\n",
              "      --disabled-fill-color: #666;\n",
              "  }\n",
              "\n",
              "  .colab-df-quickchart {\n",
              "    background-color: var(--bg-color);\n",
              "    border: none;\n",
              "    border-radius: 50%;\n",
              "    cursor: pointer;\n",
              "    display: none;\n",
              "    fill: var(--fill-color);\n",
              "    height: 32px;\n",
              "    padding: 0;\n",
              "    width: 32px;\n",
              "  }\n",
              "\n",
              "  .colab-df-quickchart:hover {\n",
              "    background-color: var(--hover-bg-color);\n",
              "    box-shadow: 0 1px 2px rgba(60, 64, 67, 0.3), 0 1px 3px 1px rgba(60, 64, 67, 0.15);\n",
              "    fill: var(--button-hover-fill-color);\n",
              "  }\n",
              "\n",
              "  .colab-df-quickchart-complete:disabled,\n",
              "  .colab-df-quickchart-complete:disabled:hover {\n",
              "    background-color: var(--disabled-bg-color);\n",
              "    fill: var(--disabled-fill-color);\n",
              "    box-shadow: none;\n",
              "  }\n",
              "\n",
              "  .colab-df-spinner {\n",
              "    border: 2px solid var(--fill-color);\n",
              "    border-color: transparent;\n",
              "    border-bottom-color: var(--fill-color);\n",
              "    animation:\n",
              "      spin 1s steps(1) infinite;\n",
              "  }\n",
              "\n",
              "  @keyframes spin {\n",
              "    0% {\n",
              "      border-color: transparent;\n",
              "      border-bottom-color: var(--fill-color);\n",
              "      border-left-color: var(--fill-color);\n",
              "    }\n",
              "    20% {\n",
              "      border-color: transparent;\n",
              "      border-left-color: var(--fill-color);\n",
              "      border-top-color: var(--fill-color);\n",
              "    }\n",
              "    30% {\n",
              "      border-color: transparent;\n",
              "      border-left-color: var(--fill-color);\n",
              "      border-top-color: var(--fill-color);\n",
              "      border-right-color: var(--fill-color);\n",
              "    }\n",
              "    40% {\n",
              "      border-color: transparent;\n",
              "      border-right-color: var(--fill-color);\n",
              "      border-top-color: var(--fill-color);\n",
              "    }\n",
              "    60% {\n",
              "      border-color: transparent;\n",
              "      border-right-color: var(--fill-color);\n",
              "    }\n",
              "    80% {\n",
              "      border-color: transparent;\n",
              "      border-right-color: var(--fill-color);\n",
              "      border-bottom-color: var(--fill-color);\n",
              "    }\n",
              "    90% {\n",
              "      border-color: transparent;\n",
              "      border-bottom-color: var(--fill-color);\n",
              "    }\n",
              "  }\n",
              "</style>\n",
              "\n",
              "      <script>\n",
              "        async function quickchart(key) {\n",
              "          const quickchartButtonEl =\n",
              "            document.querySelector('#' + key + ' button');\n",
              "          quickchartButtonEl.disabled = true;  // To prevent multiple clicks.\n",
              "          quickchartButtonEl.classList.add('colab-df-spinner');\n",
              "          try {\n",
              "            const charts = await google.colab.kernel.invokeFunction(\n",
              "                'suggestCharts', [key], {});\n",
              "          } catch (error) {\n",
              "            console.error('Error during call to suggestCharts:', error);\n",
              "          }\n",
              "          quickchartButtonEl.classList.remove('colab-df-spinner');\n",
              "          quickchartButtonEl.classList.add('colab-df-quickchart-complete');\n",
              "        }\n",
              "        (() => {\n",
              "          let quickchartButtonEl =\n",
              "            document.querySelector('#df-fa38d29f-b6e4-44b8-a583-a3745e71966a button');\n",
              "          quickchartButtonEl.style.display =\n",
              "            google.colab.kernel.accessAllowed ? 'block' : 'none';\n",
              "        })();\n",
              "      </script>\n",
              "    </div>\n",
              "\n",
              "    </div>\n",
              "  </div>\n"
            ],
            "application/vnd.google.colaboratory.intrinsic+json": {
              "type": "dataframe",
              "summary": "{\n  \"name\": \"df_out\",\n  \"rows\": 5,\n  \"fields\": [\n    {\n      \"column\": \"griddap\",\n      \"properties\": {\n        \"dtype\": \"number\",\n        \"std\": null,\n        \"min\": null,\n        \"max\": null,\n        \"num_unique_values\": 0,\n        \"samples\": [],\n        \"semantic_type\": \"\",\n        \"description\": \"\"\n      }\n    },\n    {\n      \"column\": \"Subset\",\n      \"properties\": {\n        \"dtype\": \"number\",\n        \"std\": null,\n        \"min\": null,\n        \"max\": null,\n        \"num_unique_values\": 0,\n        \"samples\": [],\n        \"semantic_type\": \"\",\n        \"description\": \"\"\n      }\n    },\n    {\n      \"column\": \"tabledap\",\n      \"properties\": {\n        \"dtype\": \"string\",\n        \"num_unique_values\": 5,\n        \"samples\": [],\n        \"semantic_type\": \"\",\n        \"description\": \"\"\n      }\n    },\n    {\n      \"column\": \"Make A Graph\",\n      \"properties\": {\n        \"dtype\": \"string\",\n        \"num_unique_values\": 5,\n        \"samples\": [],\n        \"semantic_type\": \"\",\n        \"description\": \"\"\n      }\n    },\n    {\n      \"column\": \"wms\",\n      \"properties\": {\n        \"dtype\": \"number\",\n        \"std\": null,\n        \"min\": null,\n        \"max\": null,\n        \"num_unique_values\": 0,\n        \"samples\": [],\n        \"semantic_type\": \"\",\n        \"description\": \"\"\n      }\n    },\n    {\n      \"column\": \"files\",\n      \"properties\": {\n        \"dtype\": \"number\",\n        \"std\": null,\n        \"min\": null,\n        \"max\": null,\n        \"num_unique_values\": 0,\n        \"samples\": [],\n        \"semantic_type\": \"\",\n        \"description\": \"\"\n      }\n    },\n    {\n      \"column\": \"Title\",\n      \"properties\": {\n        \"dtype\": \"string\",\n        \"num_unique_values\": 5,\n        \"samples\": [],\n        \"semantic_type\": \"\",\n        \"description\": \"\"\n      }\n    },\n    {\n      \"column\": \"Summary\",\n      \"properties\": {\n        \"dtype\": \"string\",\n        \"num_unique_values\": 5,\n        \"samples\": [],\n        \"semantic_type\": \"\",\n        \"description\": \"\"\n      }\n    },\n    {\n      \"column\": \"FGDC\",\n      \"properties\": {\n        \"dtype\": \"string\",\n        \"num_unique_values\": 5,\n        \"samples\": [],\n        \"semantic_type\": \"\",\n        \"description\": \"\"\n      }\n    },\n    {\n      \"column\": \"ISO 19115\",\n      \"properties\": {\n        \"dtype\": \"string\",\n        \"num_unique_values\": 5,\n        \"samples\": [],\n        \"semantic_type\": \"\",\n        \"description\": \"\"\n      }\n    },\n    {\n      \"column\": \"Info\",\n      \"properties\": {\n        \"dtype\": \"string\",\n        \"num_unique_values\": 5,\n        \"samples\": [],\n        \"semantic_type\": \"\",\n        \"description\": \"\"\n      }\n    },\n    {\n      \"column\": \"Background Info\",\n      \"properties\": {\n        \"dtype\": \"string\",\n        \"num_unique_values\": 5,\n        \"samples\": [],\n        \"semantic_type\": \"\",\n        \"description\": \"\"\n      }\n    },\n    {\n      \"column\": \"RSS\",\n      \"properties\": {\n        \"dtype\": \"string\",\n        \"num_unique_values\": 5,\n        \"samples\": [],\n        \"semantic_type\": \"\",\n        \"description\": \"\"\n      }\n    },\n    {\n      \"column\": \"Email\",\n      \"properties\": {\n        \"dtype\": \"string\",\n        \"num_unique_values\": 5,\n        \"samples\": [],\n        \"semantic_type\": \"\",\n        \"description\": \"\"\n      }\n    },\n    {\n      \"column\": \"Institution\",\n      \"properties\": {\n        \"dtype\": \"string\",\n        \"num_unique_values\": 3,\n        \"samples\": [],\n        \"semantic_type\": \"\",\n        \"description\": \"\"\n      }\n    },\n    {\n      \"column\": \"Dataset ID\",\n      \"properties\": {\n        \"dtype\": \"string\",\n        \"num_unique_values\": 5,\n        \"samples\": [],\n        \"semantic_type\": \"\",\n        \"description\": \"\"\n      }\n    }\n  ]\n}"
            }
          },
          "metadata": {},
          "execution_count": 3
        }
      ],
      "source": [
        "from erddapy import servers\n",
        "\n",
        "cencoos_servers = {k: v.url for k, v in servers.items() if 'cencoos' in v.url}\n",
        "\n",
        "df_out = pd.DataFrame()\n",
        "\n",
        "for s, url in cencoos_servers.items():\n",
        "\n",
        "    e = ERDDAP(server=url, protocol=\"tabledap\")\n",
        "\n",
        "    kw = {\"cdm_data_type\": \"TimeSeries\"}\n",
        "\n",
        "    url = e.get_search_url(response=\"csv\", **kw)\n",
        "\n",
        "    df = pd.read_csv(url)\n",
        "\n",
        "    df_out = pd.concat([df_out,df], ignore_index=True)\n",
        "\n",
        "df_out.sample(n=5)"
      ]
    },
    {
      "cell_type": "markdown",
      "source": [
        "Okay, we we have a table of datasets we'd like to copy and add to our ERDDAP. Our next task is to start building the xml snippets for each of the datasets.\n",
        "\n",
        "Here, we will use the python package jinja2 to create a slew of xml snippets for the datasets of interest. So, first we need to create a template xml snippet for `EDDTableCopy` and `EDDTableFromErddap` from which we can build our individual xml snippets."
      ],
      "metadata": {
        "id": "pWCFeyPUSmr0"
      }
    },
    {
      "cell_type": "code",
      "source": [
        "%%writefile templates/datasets_template.xml\n",
        "<dataset type=\"EDDTableCopy\" datasetID=\"{{configs.datasetID}}_EDDTableCopy\" active=\"true\">\n",
        "  <reloadEveryNMinutes>10080</reloadEveryNMinutes>\n",
        "  <extractDestinationNames>{{configs.destinationNames}}</extractDestinationNames>\n",
        "  <checkSourceData>true</checkSourceData>\n",
        "  <dataset type=\"EDDTableFromErddap\" datasetID=\"{{configs.datasetID}}\" active=\"true\">\n",
        "    <sourceUrl>{{configs.datasetURL}}</sourceUrl>\n",
        "  </dataset>\n",
        "</dataset>"
      ],
      "metadata": {
        "colab": {
          "base_uri": "https://localhost:8080/"
        },
        "id": "U2XEy4yMH7w2",
        "outputId": "eb9262e6-1c6b-4436-b5e3-46b73793920f"
      },
      "execution_count": null,
      "outputs": [
        {
          "output_type": "stream",
          "name": "stdout",
          "text": [
            "Overwriting templates/datasets_template.xml\n"
          ]
        }
      ]
    },
    {
      "cell_type": "markdown",
      "source": [
        "Using the template we just created, we can write some functions to help us insert the appropriate information into the files and write the files out."
      ],
      "metadata": {
        "id": "qLLISJ70eUyY"
      }
    },
    {
      "cell_type": "code",
      "source": [
        "import os\n",
        "from jinja2 import Environment, FileSystemLoader\n",
        "\n",
        "def write_html_index(template, configs):\n",
        "    root = os.path.dirname(os.path.abspath('.'))\n",
        "    # root = path to output directory\n",
        "    fname = f\"datasets_{configs['datasetID']}_EDDTableCopy.xml\"\n",
        "    filename = os.path.join(\"datasets/\", fname)\n",
        "    with open(filename, \"w\", encoding=\"utf-8\") as fh:\n",
        "        fh.write(template.render(configs=configs))\n",
        "\n",
        "\n",
        "def load_template():\n",
        "    root = os.path.dirname(os.path.abspath('.'))\n",
        "    templates_dir = \"templates/\"\n",
        "    env = Environment(loader=FileSystemLoader(templates_dir))\n",
        "    template = env.get_template(\"datasets_template.xml\")\n",
        "    return template\n",
        "\n",
        "\n",
        "def write_templates(configs):\n",
        "    template = load_template()\n",
        "    write_html_index(template, configs)\n",
        "\n",
        "def main(configs):\n",
        "    write_templates(configs)"
      ],
      "metadata": {
        "id": "chOR_cQ1IvGK"
      },
      "execution_count": null,
      "outputs": []
    },
    {
      "cell_type": "markdown",
      "source": [
        "Before we go whole hog, let's test this with one dataset."
      ],
      "metadata": {
        "id": "AxzNf1m2ScsX"
      }
    },
    {
      "cell_type": "code",
      "source": [
        "dset = df_out.loc[df_out['Institution'].str.contains(\"University\")].iloc[0]\n",
        "\n",
        "configs = {\n",
        "    'datasetID': dset['Dataset ID'],\n",
        "    'destinationNames': 'station latitude longitude',\n",
        "    'datasetURL': dset['tabledap']\n",
        "}\n",
        "\n",
        "main(configs)"
      ],
      "metadata": {
        "id": "3fhkNTjDJfVa"
      },
      "execution_count": null,
      "outputs": []
    },
    {
      "cell_type": "markdown",
      "source": [
        "Take a look at the resultant dataset snippet."
      ],
      "metadata": {
        "id": "U7U4hqGeShNE"
      }
    },
    {
      "cell_type": "code",
      "source": [
        "%cat datasets/datasets_bodega-head-intertidal-shore-sta_EDDTableCopy.xml"
      ],
      "metadata": {
        "colab": {
          "base_uri": "https://localhost:8080/"
        },
        "id": "9EqCnssaLibV",
        "outputId": "e4b7ea1a-a1bf-402b-f7f1-899640b6272f"
      },
      "execution_count": null,
      "outputs": [
        {
          "output_type": "stream",
          "name": "stdout",
          "text": [
            "<dataset type=\"EDDTableCopy\" datasetID=\"bodega-head-intertidal-shore-sta_EDDTabl\n",
            "eCopy\" active=\"true\">\n",
            "  <reloadEveryNMinutes>10080</reloadEveryNMinutes>\n",
            "  <extractDestinationNames>station latitude longitude</extractDestinationNames>\n",
            "  <checkSourceData>true</checkSourceData>\n",
            "  <dataset type=\"EDDTableFromErddap\" datasetID=\"bodega-head-intertidal-shore-sta\n",
            "\" active=\"true\">\n",
            "    <sourceUrl>http://erddap.cencoos.org/erddap/tabledap/bodega-head-intertidal-\n",
            "shore-sta</sourceUrl>\n",
            "  </dataset>\n",
            "</dataset>\n"
          ]
        }
      ]
    },
    {
      "cell_type": "markdown",
      "source": [
        "## Create xml snippet for each dataset of interest\n",
        "Now, let's go whole hog and create snippets for all the \"University\" affiliated datasets.\n",
        "\n",
        "\n",
        "Assumptions:\n",
        "1. The source provider (CenCOOS, in this case) is okay with all of this.\n",
        "1. all `destinationNames` exist in the specific dataset. (`station`, `latitude`, `longitude`)\n"
      ],
      "metadata": {
        "id": "k72CionCRhrh"
      }
    },
    {
      "cell_type": "code",
      "source": [
        "dsets = df_out.loc[df_out['Institution'].str.contains(\"University\")]\n",
        "\n",
        "for index, dset in dsets.iterrows():\n",
        "\n",
        "  configs = {\n",
        "    'datasetID': dset['Dataset ID'],\n",
        "    'destinationNames': 'station latitude longitude',\n",
        "    'datasetURL': dset['tabledap']\n",
        "  }\n",
        "\n",
        "  main(configs)"
      ],
      "metadata": {
        "id": "WFFmfKhaMeHA"
      },
      "execution_count": null,
      "outputs": []
    },
    {
      "cell_type": "markdown",
      "source": [
        "How many snippets did we make?"
      ],
      "metadata": {
        "id": "qZksuyIagMK9"
      }
    },
    {
      "cell_type": "code",
      "source": [
        "%ls datasets/ | wc"
      ],
      "metadata": {
        "colab": {
          "base_uri": "https://localhost:8080/"
        },
        "id": "kc-HkUKjgPLI",
        "outputId": "5106d05f-4176-4190-a64c-c1127d151c5c"
      },
      "execution_count": null,
      "outputs": [
        {
          "output_type": "stream",
          "name": "stdout",
          "text": [
            "    171     171    7600\n"
          ]
        }
      ]
    },
    {
      "cell_type": "markdown",
      "source": [
        "Show me a few of those filenames."
      ],
      "metadata": {
        "id": "Z2RQA8fqgTRv"
      }
    },
    {
      "cell_type": "code",
      "source": [
        "%ls datasets/ | head -5"
      ],
      "metadata": {
        "colab": {
          "base_uri": "https://localhost:8080/"
        },
        "id": "GvctlnR6gZSC",
        "outputId": "9512336f-d45b-408f-ed64-28a6e9885ddc"
      },
      "execution_count": null,
      "outputs": [
        {
          "output_type": "stream",
          "name": "stdout",
          "text": [
            "datasets_bodega-head-intertidal-shore-sta_EDDTableCopy.xml\n",
            "datasets_bodega-marine-laboratory-bml-_EDDTableCopy.xml\n",
            "datasets_bodega-marine-laboratory-weather_EDDTableCopy.xml\n",
            "datasets_carquinez_EDDTableCopy.xml\n",
            "datasets_cordell-banks-mooring_EDDTableCopy.xml\n"
          ]
        }
      ]
    },
    {
      "cell_type": "markdown",
      "source": [
        "Take a look at one of those xml snippets"
      ],
      "metadata": {
        "id": "ucO74GzdTR46"
      }
    },
    {
      "cell_type": "code",
      "source": [
        "%cat datasets/datasets_cordell-banks-mooring_EDDTableCopy.xml"
      ],
      "metadata": {
        "colab": {
          "base_uri": "https://localhost:8080/"
        },
        "id": "XIs5Zi8POUTX",
        "outputId": "286b41f2-836e-4e48-b6fc-d880d47c1d9b"
      },
      "execution_count": null,
      "outputs": [
        {
          "output_type": "stream",
          "name": "stdout",
          "text": [
            "<dataset type=\"EDDTableCopy\" datasetID=\"cordell-banks-mooring_EDDTableCopy\" acti\n",
            "ve=\"true\">\n",
            "  <reloadEveryNMinutes>10080</reloadEveryNMinutes>\n",
            "  <extractDestinationNames>station latitude longitude</extractDestinationNames>\n",
            "  <checkSourceData>true</checkSourceData>\n",
            "  <dataset type=\"EDDTableFromErddap\" datasetID=\"cordell-banks-mooring\" active=\"t\n",
            "rue\">\n",
            "    <sourceUrl>http://erddap.cencoos.org/erddap/tabledap/cordell-banks-mooring</\n",
            "sourceUrl>\n",
            "  </dataset>\n",
            "</dataset>\n"
          ]
        }
      ]
    },
    {
      "cell_type": "markdown",
      "source": [
        "Now we have 171 dataset xml snippets we can add to our source datasets.xml file to be loaded into ERDDAP. Once you add these snippets into your source datasets.xml file, flag them for reloading, and ERDDAP will go out and grab the appropriate data, download it to `/erddap/data/copy/` and then load the data from there.\n",
        "\n",
        "Now you have a local copy of all 171 datasets of interest. If the remote ERDDAP (CeNCOOS in this case) goes down, you will still be able to provide access to the data via your ERDDAP since you have a local copy."
      ],
      "metadata": {
        "id": "mhJz1yanfFxf"
      }
    },
    {
      "cell_type": "code",
      "source": [],
      "metadata": {
        "id": "8QkMdmBkfufk"
      },
      "execution_count": null,
      "outputs": []
    }
  ]
}